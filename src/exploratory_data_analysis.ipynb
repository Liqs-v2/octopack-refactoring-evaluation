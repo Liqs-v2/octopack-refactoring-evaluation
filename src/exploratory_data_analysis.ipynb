{
  "cells": [
    {
      "cell_type": "markdown",
      "source": [
        "# Setup & Imports"
      ],
      "metadata": {
        "id": "joBJR3GVdbjN"
      }
    },
    {
      "cell_type": "code",
      "source": [
        "!pip install datasets"
      ],
      "metadata": {
        "colab": {
          "base_uri": "https://localhost:8080/"
        },
        "id": "GMg4_DpUduYP",
        "outputId": "882a3481-7a84-493b-d5fd-90077c1ad14b"
      },
      "execution_count": 33,
      "outputs": [
        {
          "output_type": "stream",
          "name": "stdout",
          "text": [
            "Requirement already satisfied: datasets in /usr/local/lib/python3.10/dist-packages (2.16.0)\n",
            "Requirement already satisfied: filelock in /usr/local/lib/python3.10/dist-packages (from datasets) (3.13.1)\n",
            "Requirement already satisfied: numpy>=1.17 in /usr/local/lib/python3.10/dist-packages (from datasets) (1.23.5)\n",
            "Requirement already satisfied: pyarrow>=8.0.0 in /usr/local/lib/python3.10/dist-packages (from datasets) (10.0.1)\n",
            "Requirement already satisfied: pyarrow-hotfix in /usr/local/lib/python3.10/dist-packages (from datasets) (0.6)\n",
            "Requirement already satisfied: dill<0.3.8,>=0.3.0 in /usr/local/lib/python3.10/dist-packages (from datasets) (0.3.7)\n",
            "Requirement already satisfied: pandas in /usr/local/lib/python3.10/dist-packages (from datasets) (1.5.3)\n",
            "Requirement already satisfied: requests>=2.19.0 in /usr/local/lib/python3.10/dist-packages (from datasets) (2.31.0)\n",
            "Requirement already satisfied: tqdm>=4.62.1 in /usr/local/lib/python3.10/dist-packages (from datasets) (4.66.1)\n",
            "Requirement already satisfied: xxhash in /usr/local/lib/python3.10/dist-packages (from datasets) (3.4.1)\n",
            "Requirement already satisfied: multiprocess in /usr/local/lib/python3.10/dist-packages (from datasets) (0.70.15)\n",
            "Requirement already satisfied: fsspec[http]<=2023.10.0,>=2023.1.0 in /usr/local/lib/python3.10/dist-packages (from datasets) (2023.6.0)\n",
            "Requirement already satisfied: aiohttp in /usr/local/lib/python3.10/dist-packages (from datasets) (3.9.1)\n",
            "Requirement already satisfied: huggingface-hub>=0.19.4 in /usr/local/lib/python3.10/dist-packages (from datasets) (0.19.4)\n",
            "Requirement already satisfied: packaging in /usr/local/lib/python3.10/dist-packages (from datasets) (23.2)\n",
            "Requirement already satisfied: pyyaml>=5.1 in /usr/local/lib/python3.10/dist-packages (from datasets) (6.0.1)\n",
            "Requirement already satisfied: attrs>=17.3.0 in /usr/local/lib/python3.10/dist-packages (from aiohttp->datasets) (23.1.0)\n",
            "Requirement already satisfied: multidict<7.0,>=4.5 in /usr/local/lib/python3.10/dist-packages (from aiohttp->datasets) (6.0.4)\n",
            "Requirement already satisfied: yarl<2.0,>=1.0 in /usr/local/lib/python3.10/dist-packages (from aiohttp->datasets) (1.9.4)\n",
            "Requirement already satisfied: frozenlist>=1.1.1 in /usr/local/lib/python3.10/dist-packages (from aiohttp->datasets) (1.4.1)\n",
            "Requirement already satisfied: aiosignal>=1.1.2 in /usr/local/lib/python3.10/dist-packages (from aiohttp->datasets) (1.3.1)\n",
            "Requirement already satisfied: async-timeout<5.0,>=4.0 in /usr/local/lib/python3.10/dist-packages (from aiohttp->datasets) (4.0.3)\n",
            "Requirement already satisfied: typing-extensions>=3.7.4.3 in /usr/local/lib/python3.10/dist-packages (from huggingface-hub>=0.19.4->datasets) (4.5.0)\n",
            "Requirement already satisfied: charset-normalizer<4,>=2 in /usr/local/lib/python3.10/dist-packages (from requests>=2.19.0->datasets) (3.3.2)\n",
            "Requirement already satisfied: idna<4,>=2.5 in /usr/local/lib/python3.10/dist-packages (from requests>=2.19.0->datasets) (3.6)\n",
            "Requirement already satisfied: urllib3<3,>=1.21.1 in /usr/local/lib/python3.10/dist-packages (from requests>=2.19.0->datasets) (2.0.7)\n",
            "Requirement already satisfied: certifi>=2017.4.17 in /usr/local/lib/python3.10/dist-packages (from requests>=2.19.0->datasets) (2023.11.17)\n",
            "Requirement already satisfied: python-dateutil>=2.8.1 in /usr/local/lib/python3.10/dist-packages (from pandas->datasets) (2.8.2)\n",
            "Requirement already satisfied: pytz>=2020.1 in /usr/local/lib/python3.10/dist-packages (from pandas->datasets) (2023.3.post1)\n",
            "Requirement already satisfied: six>=1.5 in /usr/local/lib/python3.10/dist-packages (from python-dateutil>=2.8.1->pandas->datasets) (1.16.0)\n"
          ]
        }
      ]
    },
    {
      "cell_type": "code",
      "execution_count": 34,
      "metadata": {
        "id": "o4BFMHT4c-Dz"
      },
      "outputs": [],
      "source": [
        "from datasets import load_dataset\n",
        "import pandas as pd\n",
        "from collections import Counter\n",
        "\n",
        "# NLP\n",
        "import nltk\n",
        "from nltk import ngrams, FreqDist\n",
        "from nltk.tokenize import word_tokenize\n",
        "from typing import List, Tuple"
      ]
    },
    {
      "cell_type": "code",
      "source": [
        "nltk.download('punkt')"
      ],
      "metadata": {
        "colab": {
          "base_uri": "https://localhost:8080/"
        },
        "id": "mMr1vE-Y3vHK",
        "outputId": "ffc478f6-5778-45ca-8de7-aacc0e3bb74a"
      },
      "execution_count": 35,
      "outputs": [
        {
          "output_type": "stream",
          "name": "stderr",
          "text": [
            "[nltk_data] Downloading package punkt to /root/nltk_data...\n",
            "[nltk_data]   Package punkt is already up-to-date!\n"
          ]
        },
        {
          "output_type": "execute_result",
          "data": {
            "text/plain": [
              "True"
            ]
          },
          "metadata": {},
          "execution_count": 35
        }
      ]
    },
    {
      "cell_type": "markdown",
      "source": [
        "# Exploratory Data Analysis"
      ],
      "metadata": {
        "id": "qCreHEaodfHz"
      }
    },
    {
      "cell_type": "markdown",
      "source": [
        "Since the task is to benchmark `Refact-1.6B` using `HumanEvalPack` for Python, I will limit myself to the Python portion of the dataset for the EDA aswell."
      ],
      "metadata": {
        "id": "hbVkHrdxeAoL"
      }
    },
    {
      "cell_type": "code",
      "source": [
        "dataset = load_dataset(\"bigcode/commitpackft\", \"python\")"
      ],
      "metadata": {
        "id": "BdIkPP-mdexv"
      },
      "execution_count": 36,
      "outputs": []
    },
    {
      "cell_type": "code",
      "source": [
        "dataset"
      ],
      "metadata": {
        "colab": {
          "base_uri": "https://localhost:8080/"
        },
        "id": "8S5doK-xdz_W",
        "outputId": "d8e6f9fd-3110-45d8-df4d-5a810cfe4dfe"
      },
      "execution_count": 37,
      "outputs": [
        {
          "output_type": "execute_result",
          "data": {
            "text/plain": [
              "DatasetDict({\n",
              "    train: Dataset({\n",
              "        features: ['commit', 'old_file', 'new_file', 'old_contents', 'new_contents', 'subject', 'message', 'lang', 'license', 'repos'],\n",
              "        num_rows: 56025\n",
              "    })\n",
              "})"
            ]
          },
          "metadata": {},
          "execution_count": 37
        }
      ]
    },
    {
      "cell_type": "code",
      "source": [
        "df = pd.DataFrame(dataset['train'])"
      ],
      "metadata": {
        "id": "uG-X0uUmeo9R"
      },
      "execution_count": 38,
      "outputs": []
    },
    {
      "cell_type": "code",
      "source": [
        "df.info()"
      ],
      "metadata": {
        "colab": {
          "base_uri": "https://localhost:8080/"
        },
        "id": "laWQhshrev4S",
        "outputId": "cc82271e-f416-4b9f-c37a-0996b2c63fbc"
      },
      "execution_count": 39,
      "outputs": [
        {
          "output_type": "stream",
          "name": "stdout",
          "text": [
            "<class 'pandas.core.frame.DataFrame'>\n",
            "RangeIndex: 56025 entries, 0 to 56024\n",
            "Data columns (total 10 columns):\n",
            " #   Column        Non-Null Count  Dtype \n",
            "---  ------        --------------  ----- \n",
            " 0   commit        56025 non-null  object\n",
            " 1   old_file      56025 non-null  object\n",
            " 2   new_file      56025 non-null  object\n",
            " 3   old_contents  56025 non-null  object\n",
            " 4   new_contents  56025 non-null  object\n",
            " 5   subject       56025 non-null  object\n",
            " 6   message       56025 non-null  object\n",
            " 7   lang          56025 non-null  object\n",
            " 8   license       56025 non-null  object\n",
            " 9   repos         56025 non-null  object\n",
            "dtypes: object(10)\n",
            "memory usage: 4.3+ MB\n"
          ]
        }
      ]
    },
    {
      "cell_type": "code",
      "source": [
        "df.head()"
      ],
      "metadata": {
        "colab": {
          "base_uri": "https://localhost:8080/",
          "height": 417
        },
        "id": "u9xvYMqCfNdJ",
        "outputId": "e9b1e101-64bc-4435-d9be-be5315aa1b62"
      },
      "execution_count": 40,
      "outputs": [
        {
          "output_type": "execute_result",
          "data": {
            "text/plain": [
              "                                     commit  \\\n",
              "0  e905334869af72025592de586b81650cb3468b8a   \n",
              "1  45fc612fdc5a354dbf0bacccd345b1aebcc73e59   \n",
              "2  22faee82e1f070532c0dfe5777136e842233a1f0   \n",
              "3  950ac9130bafe1fced578bf61d746b047830bfa0   \n",
              "4  462ae981ed5b9cc9a8f46e97dfe7908c0827ea64   \n",
              "\n",
              "                                            old_file  \\\n",
              "0                             sentry/queue/client.py   \n",
              "1                          tests/test_openweather.py   \n",
              "2  src/dashboard/src/main/templatetags/percentage.py   \n",
              "3                        automata/base/exceptions.py   \n",
              "4     account_invoice_line_description/res_config.py   \n",
              "\n",
              "                                            new_file  \\\n",
              "0                             sentry/queue/client.py   \n",
              "1                          tests/test_openweather.py   \n",
              "2  src/dashboard/src/main/templatetags/percentage.py   \n",
              "3                        automata/base/exceptions.py   \n",
              "4     account_invoice_line_description/res_config.py   \n",
              "\n",
              "                                        old_contents  \\\n",
              "0  \"\"\"\\nsentry.queue.client\\n~~~~~~~~~~~~~~~~~~~\\...   \n",
              "1  # -*- coding: utf-8 -*-\\nimport bot_mock\\nfrom...   \n",
              "2  from django.template import Node, Library\\n\\nr...   \n",
              "3  #!/usr/bin/env python3\\n\"\"\"Exception classes s...   \n",
              "4  # -*- coding: utf-8 -*-\\n#####################...   \n",
              "\n",
              "                                        new_contents  \\\n",
              "0  \"\"\"\\nsentry.queue.client\\n~~~~~~~~~~~~~~~~~~~\\...   \n",
              "1  # -*- coding: utf-8 -*-\\nimport bot_mock\\nfrom...   \n",
              "2  from django.template import Node, Library\\n\\nr...   \n",
              "3  #!/usr/bin/env python3\\n\"\"\"Exception classes s...   \n",
              "4  # -*- coding: utf-8 -*-\\n#####################...   \n",
              "\n",
              "                                             subject  \\\n",
              "0         Declare queues when broker is instantiated   \n",
              "1                Revert \"Fix openweather unit tests\"   \n",
              "2  Fix % only showing 0 or 100%, everything betwe...   \n",
              "3  Remove \"validation\" from RejectionException do...   \n",
              "4  Fix implied_group, it still refers to the old ...   \n",
              "\n",
              "                                             message    lang       license  \\\n",
              "0       Declare queues when broker is instantiated\\n  Python  bsd-3-clause   \n",
              "1  Revert \"Fix openweather unit tests\"\\n\\nThis re...  Python  bsd-3-clause   \n",
              "2  Fix % only showing 0 or 100%, everything betwe...  Python      agpl-3.0   \n",
              "3  Remove \"validation\" from RejectionException do...  Python           mit   \n",
              "4  Fix implied_group, it still refers to the old ...  Python      agpl-3.0   \n",
              "\n",
              "                                               repos  \n",
              "0  imankulov/sentry,BuildingLink/sentry,zenefits/...  \n",
              "1  rnyberg/pyfibot,EArmour/pyfibot,aapa/pyfibot,a...  \n",
              "2  artefactual/archivematica-history,artefactual/...  \n",
              "3                                  caleb531/automata  \n",
              "4  Antiun/account-invoicing,hbrunn/account-invoic...  "
            ],
            "text/html": [
              "\n",
              "  <div id=\"df-10ed96e2-2ce6-42e7-b1c6-3507a4d6990b\" class=\"colab-df-container\">\n",
              "    <div>\n",
              "<style scoped>\n",
              "    .dataframe tbody tr th:only-of-type {\n",
              "        vertical-align: middle;\n",
              "    }\n",
              "\n",
              "    .dataframe tbody tr th {\n",
              "        vertical-align: top;\n",
              "    }\n",
              "\n",
              "    .dataframe thead th {\n",
              "        text-align: right;\n",
              "    }\n",
              "</style>\n",
              "<table border=\"1\" class=\"dataframe\">\n",
              "  <thead>\n",
              "    <tr style=\"text-align: right;\">\n",
              "      <th></th>\n",
              "      <th>commit</th>\n",
              "      <th>old_file</th>\n",
              "      <th>new_file</th>\n",
              "      <th>old_contents</th>\n",
              "      <th>new_contents</th>\n",
              "      <th>subject</th>\n",
              "      <th>message</th>\n",
              "      <th>lang</th>\n",
              "      <th>license</th>\n",
              "      <th>repos</th>\n",
              "    </tr>\n",
              "  </thead>\n",
              "  <tbody>\n",
              "    <tr>\n",
              "      <th>0</th>\n",
              "      <td>e905334869af72025592de586b81650cb3468b8a</td>\n",
              "      <td>sentry/queue/client.py</td>\n",
              "      <td>sentry/queue/client.py</td>\n",
              "      <td>\"\"\"\\nsentry.queue.client\\n~~~~~~~~~~~~~~~~~~~\\...</td>\n",
              "      <td>\"\"\"\\nsentry.queue.client\\n~~~~~~~~~~~~~~~~~~~\\...</td>\n",
              "      <td>Declare queues when broker is instantiated</td>\n",
              "      <td>Declare queues when broker is instantiated\\n</td>\n",
              "      <td>Python</td>\n",
              "      <td>bsd-3-clause</td>\n",
              "      <td>imankulov/sentry,BuildingLink/sentry,zenefits/...</td>\n",
              "    </tr>\n",
              "    <tr>\n",
              "      <th>1</th>\n",
              "      <td>45fc612fdc5a354dbf0bacccd345b1aebcc73e59</td>\n",
              "      <td>tests/test_openweather.py</td>\n",
              "      <td>tests/test_openweather.py</td>\n",
              "      <td># -*- coding: utf-8 -*-\\nimport bot_mock\\nfrom...</td>\n",
              "      <td># -*- coding: utf-8 -*-\\nimport bot_mock\\nfrom...</td>\n",
              "      <td>Revert \"Fix openweather unit tests\"</td>\n",
              "      <td>Revert \"Fix openweather unit tests\"\\n\\nThis re...</td>\n",
              "      <td>Python</td>\n",
              "      <td>bsd-3-clause</td>\n",
              "      <td>rnyberg/pyfibot,EArmour/pyfibot,aapa/pyfibot,a...</td>\n",
              "    </tr>\n",
              "    <tr>\n",
              "      <th>2</th>\n",
              "      <td>22faee82e1f070532c0dfe5777136e842233a1f0</td>\n",
              "      <td>src/dashboard/src/main/templatetags/percentage.py</td>\n",
              "      <td>src/dashboard/src/main/templatetags/percentage.py</td>\n",
              "      <td>from django.template import Node, Library\\n\\nr...</td>\n",
              "      <td>from django.template import Node, Library\\n\\nr...</td>\n",
              "      <td>Fix % only showing 0 or 100%, everything betwe...</td>\n",
              "      <td>Fix % only showing 0 or 100%, everything betwe...</td>\n",
              "      <td>Python</td>\n",
              "      <td>agpl-3.0</td>\n",
              "      <td>artefactual/archivematica-history,artefactual/...</td>\n",
              "    </tr>\n",
              "    <tr>\n",
              "      <th>3</th>\n",
              "      <td>950ac9130bafe1fced578bf61d746b047830bfa0</td>\n",
              "      <td>automata/base/exceptions.py</td>\n",
              "      <td>automata/base/exceptions.py</td>\n",
              "      <td>#!/usr/bin/env python3\\n\"\"\"Exception classes s...</td>\n",
              "      <td>#!/usr/bin/env python3\\n\"\"\"Exception classes s...</td>\n",
              "      <td>Remove \"validation\" from RejectionException do...</td>\n",
              "      <td>Remove \"validation\" from RejectionException do...</td>\n",
              "      <td>Python</td>\n",
              "      <td>mit</td>\n",
              "      <td>caleb531/automata</td>\n",
              "    </tr>\n",
              "    <tr>\n",
              "      <th>4</th>\n",
              "      <td>462ae981ed5b9cc9a8f46e97dfe7908c0827ea64</td>\n",
              "      <td>account_invoice_line_description/res_config.py</td>\n",
              "      <td>account_invoice_line_description/res_config.py</td>\n",
              "      <td># -*- coding: utf-8 -*-\\n#####################...</td>\n",
              "      <td># -*- coding: utf-8 -*-\\n#####################...</td>\n",
              "      <td>Fix implied_group, it still refers to the old ...</td>\n",
              "      <td>Fix implied_group, it still refers to the old ...</td>\n",
              "      <td>Python</td>\n",
              "      <td>agpl-3.0</td>\n",
              "      <td>Antiun/account-invoicing,hbrunn/account-invoic...</td>\n",
              "    </tr>\n",
              "  </tbody>\n",
              "</table>\n",
              "</div>\n",
              "    <div class=\"colab-df-buttons\">\n",
              "\n",
              "  <div class=\"colab-df-container\">\n",
              "    <button class=\"colab-df-convert\" onclick=\"convertToInteractive('df-10ed96e2-2ce6-42e7-b1c6-3507a4d6990b')\"\n",
              "            title=\"Convert this dataframe to an interactive table.\"\n",
              "            style=\"display:none;\">\n",
              "\n",
              "  <svg xmlns=\"http://www.w3.org/2000/svg\" height=\"24px\" viewBox=\"0 -960 960 960\">\n",
              "    <path d=\"M120-120v-720h720v720H120Zm60-500h600v-160H180v160Zm220 220h160v-160H400v160Zm0 220h160v-160H400v160ZM180-400h160v-160H180v160Zm440 0h160v-160H620v160ZM180-180h160v-160H180v160Zm440 0h160v-160H620v160Z\"/>\n",
              "  </svg>\n",
              "    </button>\n",
              "\n",
              "  <style>\n",
              "    .colab-df-container {\n",
              "      display:flex;\n",
              "      gap: 12px;\n",
              "    }\n",
              "\n",
              "    .colab-df-convert {\n",
              "      background-color: #E8F0FE;\n",
              "      border: none;\n",
              "      border-radius: 50%;\n",
              "      cursor: pointer;\n",
              "      display: none;\n",
              "      fill: #1967D2;\n",
              "      height: 32px;\n",
              "      padding: 0 0 0 0;\n",
              "      width: 32px;\n",
              "    }\n",
              "\n",
              "    .colab-df-convert:hover {\n",
              "      background-color: #E2EBFA;\n",
              "      box-shadow: 0px 1px 2px rgba(60, 64, 67, 0.3), 0px 1px 3px 1px rgba(60, 64, 67, 0.15);\n",
              "      fill: #174EA6;\n",
              "    }\n",
              "\n",
              "    .colab-df-buttons div {\n",
              "      margin-bottom: 4px;\n",
              "    }\n",
              "\n",
              "    [theme=dark] .colab-df-convert {\n",
              "      background-color: #3B4455;\n",
              "      fill: #D2E3FC;\n",
              "    }\n",
              "\n",
              "    [theme=dark] .colab-df-convert:hover {\n",
              "      background-color: #434B5C;\n",
              "      box-shadow: 0px 1px 3px 1px rgba(0, 0, 0, 0.15);\n",
              "      filter: drop-shadow(0px 1px 2px rgba(0, 0, 0, 0.3));\n",
              "      fill: #FFFFFF;\n",
              "    }\n",
              "  </style>\n",
              "\n",
              "    <script>\n",
              "      const buttonEl =\n",
              "        document.querySelector('#df-10ed96e2-2ce6-42e7-b1c6-3507a4d6990b button.colab-df-convert');\n",
              "      buttonEl.style.display =\n",
              "        google.colab.kernel.accessAllowed ? 'block' : 'none';\n",
              "\n",
              "      async function convertToInteractive(key) {\n",
              "        const element = document.querySelector('#df-10ed96e2-2ce6-42e7-b1c6-3507a4d6990b');\n",
              "        const dataTable =\n",
              "          await google.colab.kernel.invokeFunction('convertToInteractive',\n",
              "                                                    [key], {});\n",
              "        if (!dataTable) return;\n",
              "\n",
              "        const docLinkHtml = 'Like what you see? Visit the ' +\n",
              "          '<a target=\"_blank\" href=https://colab.research.google.com/notebooks/data_table.ipynb>data table notebook</a>'\n",
              "          + ' to learn more about interactive tables.';\n",
              "        element.innerHTML = '';\n",
              "        dataTable['output_type'] = 'display_data';\n",
              "        await google.colab.output.renderOutput(dataTable, element);\n",
              "        const docLink = document.createElement('div');\n",
              "        docLink.innerHTML = docLinkHtml;\n",
              "        element.appendChild(docLink);\n",
              "      }\n",
              "    </script>\n",
              "  </div>\n",
              "\n",
              "\n",
              "<div id=\"df-3c5dfcde-cb39-4073-8176-d19377d7d05c\">\n",
              "  <button class=\"colab-df-quickchart\" onclick=\"quickchart('df-3c5dfcde-cb39-4073-8176-d19377d7d05c')\"\n",
              "            title=\"Suggest charts\"\n",
              "            style=\"display:none;\">\n",
              "\n",
              "<svg xmlns=\"http://www.w3.org/2000/svg\" height=\"24px\"viewBox=\"0 0 24 24\"\n",
              "     width=\"24px\">\n",
              "    <g>\n",
              "        <path d=\"M19 3H5c-1.1 0-2 .9-2 2v14c0 1.1.9 2 2 2h14c1.1 0 2-.9 2-2V5c0-1.1-.9-2-2-2zM9 17H7v-7h2v7zm4 0h-2V7h2v10zm4 0h-2v-4h2v4z\"/>\n",
              "    </g>\n",
              "</svg>\n",
              "  </button>\n",
              "\n",
              "<style>\n",
              "  .colab-df-quickchart {\n",
              "      --bg-color: #E8F0FE;\n",
              "      --fill-color: #1967D2;\n",
              "      --hover-bg-color: #E2EBFA;\n",
              "      --hover-fill-color: #174EA6;\n",
              "      --disabled-fill-color: #AAA;\n",
              "      --disabled-bg-color: #DDD;\n",
              "  }\n",
              "\n",
              "  [theme=dark] .colab-df-quickchart {\n",
              "      --bg-color: #3B4455;\n",
              "      --fill-color: #D2E3FC;\n",
              "      --hover-bg-color: #434B5C;\n",
              "      --hover-fill-color: #FFFFFF;\n",
              "      --disabled-bg-color: #3B4455;\n",
              "      --disabled-fill-color: #666;\n",
              "  }\n",
              "\n",
              "  .colab-df-quickchart {\n",
              "    background-color: var(--bg-color);\n",
              "    border: none;\n",
              "    border-radius: 50%;\n",
              "    cursor: pointer;\n",
              "    display: none;\n",
              "    fill: var(--fill-color);\n",
              "    height: 32px;\n",
              "    padding: 0;\n",
              "    width: 32px;\n",
              "  }\n",
              "\n",
              "  .colab-df-quickchart:hover {\n",
              "    background-color: var(--hover-bg-color);\n",
              "    box-shadow: 0 1px 2px rgba(60, 64, 67, 0.3), 0 1px 3px 1px rgba(60, 64, 67, 0.15);\n",
              "    fill: var(--button-hover-fill-color);\n",
              "  }\n",
              "\n",
              "  .colab-df-quickchart-complete:disabled,\n",
              "  .colab-df-quickchart-complete:disabled:hover {\n",
              "    background-color: var(--disabled-bg-color);\n",
              "    fill: var(--disabled-fill-color);\n",
              "    box-shadow: none;\n",
              "  }\n",
              "\n",
              "  .colab-df-spinner {\n",
              "    border: 2px solid var(--fill-color);\n",
              "    border-color: transparent;\n",
              "    border-bottom-color: var(--fill-color);\n",
              "    animation:\n",
              "      spin 1s steps(1) infinite;\n",
              "  }\n",
              "\n",
              "  @keyframes spin {\n",
              "    0% {\n",
              "      border-color: transparent;\n",
              "      border-bottom-color: var(--fill-color);\n",
              "      border-left-color: var(--fill-color);\n",
              "    }\n",
              "    20% {\n",
              "      border-color: transparent;\n",
              "      border-left-color: var(--fill-color);\n",
              "      border-top-color: var(--fill-color);\n",
              "    }\n",
              "    30% {\n",
              "      border-color: transparent;\n",
              "      border-left-color: var(--fill-color);\n",
              "      border-top-color: var(--fill-color);\n",
              "      border-right-color: var(--fill-color);\n",
              "    }\n",
              "    40% {\n",
              "      border-color: transparent;\n",
              "      border-right-color: var(--fill-color);\n",
              "      border-top-color: var(--fill-color);\n",
              "    }\n",
              "    60% {\n",
              "      border-color: transparent;\n",
              "      border-right-color: var(--fill-color);\n",
              "    }\n",
              "    80% {\n",
              "      border-color: transparent;\n",
              "      border-right-color: var(--fill-color);\n",
              "      border-bottom-color: var(--fill-color);\n",
              "    }\n",
              "    90% {\n",
              "      border-color: transparent;\n",
              "      border-bottom-color: var(--fill-color);\n",
              "    }\n",
              "  }\n",
              "</style>\n",
              "\n",
              "  <script>\n",
              "    async function quickchart(key) {\n",
              "      const quickchartButtonEl =\n",
              "        document.querySelector('#' + key + ' button');\n",
              "      quickchartButtonEl.disabled = true;  // To prevent multiple clicks.\n",
              "      quickchartButtonEl.classList.add('colab-df-spinner');\n",
              "      try {\n",
              "        const charts = await google.colab.kernel.invokeFunction(\n",
              "            'suggestCharts', [key], {});\n",
              "      } catch (error) {\n",
              "        console.error('Error during call to suggestCharts:', error);\n",
              "      }\n",
              "      quickchartButtonEl.classList.remove('colab-df-spinner');\n",
              "      quickchartButtonEl.classList.add('colab-df-quickchart-complete');\n",
              "    }\n",
              "    (() => {\n",
              "      let quickchartButtonEl =\n",
              "        document.querySelector('#df-3c5dfcde-cb39-4073-8176-d19377d7d05c button');\n",
              "      quickchartButtonEl.style.display =\n",
              "        google.colab.kernel.accessAllowed ? 'block' : 'none';\n",
              "    })();\n",
              "  </script>\n",
              "</div>\n",
              "    </div>\n",
              "  </div>\n"
            ]
          },
          "metadata": {},
          "execution_count": 40
        }
      ]
    },
    {
      "cell_type": "markdown",
      "source": [
        "## Python file types"
      ],
      "metadata": {
        "id": "eb6UAN0vrzRU"
      }
    },
    {
      "cell_type": "markdown",
      "source": [
        "Since I limited myself to Python, `lang` should only contain `Python`. Furthermore, I expect most of the filenames to end with `.py`. If they do not, they should be some sort of Python related configuration file."
      ],
      "metadata": {
        "id": "1DhOu3mvfopZ"
      }
    },
    {
      "cell_type": "code",
      "source": [
        "assert(len(df['lang'].duplicated(keep=False)) == len(df))"
      ],
      "metadata": {
        "id": "cd9Dm7yofQHW"
      },
      "execution_count": 41,
      "outputs": []
    },
    {
      "cell_type": "code",
      "source": [
        "def verify_file_types_in(columns: List[str], df: pd.DataFrame) -> pd.DataFrame:\n",
        "  for col in columns:\n",
        "    python_files_in_col = len(df['old_file'].str.endswith('.py'))\n",
        "    non_python_files_in_col = len(df) - python_files_in_col\n",
        "    print(f'Column `{col}` contains {python_files_in_col} filenames ending on \".py\" and {non_python_files_in_col} filenames that do not end on \".py\".')\n",
        "\n",
        "verify_file_types_in(['old_file', 'new_file'], df)"
      ],
      "metadata": {
        "colab": {
          "base_uri": "https://localhost:8080/"
        },
        "id": "x-I2ra6ZgHps",
        "outputId": "288fa242-ac4b-4b97-e9dc-97ce69c1f812"
      },
      "execution_count": 42,
      "outputs": [
        {
          "output_type": "stream",
          "name": "stdout",
          "text": [
            "Column `old_file` contains 56025 filenames ending on \".py\" and 0 filenames that do not end on \".py\".\n",
            "Column `new_file` contains 56025 filenames ending on \".py\" and 0 filenames that do not end on \".py\".\n"
          ]
        }
      ]
    },
    {
      "cell_type": "markdown",
      "source": [
        "Due to the fact that there are no files not ending on \".py\" I conclude that the dataset does not include any auxiliary configuration files. This is a good sign for the use case of predicting method names during refactoring as configuration files would no be able to contribute directly."
      ],
      "metadata": {
        "id": "qtIbDgiqlzLC"
      }
    },
    {
      "cell_type": "markdown",
      "source": [
        "## Difference between `subject` and `message` columns"
      ],
      "metadata": {
        "id": "xrrd5H9Yr1rE"
      }
    },
    {
      "cell_type": "markdown",
      "source": [
        "Next, I will investigate if and how the `subject` and `message` columns differ."
      ],
      "metadata": {
        "id": "8oG3iU8WmK3Y"
      }
    },
    {
      "cell_type": "code",
      "source": [
        "df['subject_message_diff'] = [message.replace(subject, '') for subject, message in zip(df.subject, df.message)]\n",
        "df['subject_message_diff']"
      ],
      "metadata": {
        "colab": {
          "base_uri": "https://localhost:8080/"
        },
        "id": "n53m-T9bh8bK",
        "outputId": "bceb6548-6a8d-42a5-9e2f-a4cbcb68bae8"
      },
      "execution_count": 43,
      "outputs": [
        {
          "output_type": "execute_result",
          "data": {
            "text/plain": [
              "0                                                       \\n\n",
              "1        \\n\\nThis reverts commit 36e100e649f0a337228a6d...\n",
              "2           \\n\\n\\nAutoconverted from SVN (revision:1548)\\n\n",
              "3                                                       \\n\n",
              "4                                                       \\n\n",
              "                               ...                        \n",
              "56020                                                   \\n\n",
              "56021                                                   \\n\n",
              "56022                                                   \\n\n",
              "56023                                                   \\n\n",
              "56024                                                   \\n\n",
              "Name: subject_message_diff, Length: 56025, dtype: object"
            ]
          },
          "metadata": {},
          "execution_count": 43
        }
      ]
    },
    {
      "cell_type": "markdown",
      "source": [
        "The key difference seems to be the explicit inclusion of line break delimiters. Let's verify this hunch."
      ],
      "metadata": {
        "id": "dYEUStLwnpQ3"
      }
    },
    {
      "cell_type": "code",
      "source": [
        "df['subject_message_diff'].str.contains(r\"\\n\").value_counts()"
      ],
      "metadata": {
        "colab": {
          "base_uri": "https://localhost:8080/"
        },
        "id": "83QDHxCXnPcp",
        "outputId": "98818f6c-83fd-4ea2-8c8e-8c7eb8c6c23c"
      },
      "execution_count": 44,
      "outputs": [
        {
          "output_type": "execute_result",
          "data": {
            "text/plain": [
              "True     53951\n",
              "False     2074\n",
              "Name: subject_message_diff, dtype: int64"
            ]
          },
          "metadata": {},
          "execution_count": 44
        }
      ]
    },
    {
      "cell_type": "markdown",
      "source": [
        "In most cases the only difference is the explicit inclusion of the line break delimiter. However, there are some cases where the difference is more pronounced. Let's take a look at these cases."
      ],
      "metadata": {
        "id": "EIaEi_HFoF0y"
      }
    },
    {
      "cell_type": "code",
      "source": [
        "non_linebreak_subject_message_diff_df = df[~df['subject_message_diff'].str.contains(r\"\\n\")].loc[:, ['subject', 'message', 'subject_message_diff']]\n",
        "non_linebreak_subject_message_diff_df"
      ],
      "metadata": {
        "colab": {
          "base_uri": "https://localhost:8080/",
          "height": 423
        },
        "id": "F6oWi2QFoD6l",
        "outputId": "4a38e85a-bf67-43e2-c3c8-9d28bf1dfbca"
      },
      "execution_count": 45,
      "outputs": [
        {
          "output_type": "execute_result",
          "data": {
            "text/plain": [
              "                                                 subject  \\\n",
              "9                     Change the version of the package.   \n",
              "32                Update for compatibility with python 3   \n",
              "47                              Deal with MD and RST doc   \n",
              "62               Add standard Ansible exception handling   \n",
              "77     Fix string formatting for NotRegistered exception   \n",
              "...                                                  ...   \n",
              "55909  Add configparser import to avoid windows packa...   \n",
              "55943               Add a few subreddits to @r_wholesome   \n",
              "55957           Make dsamp a visible component of blimpy   \n",
              "55979                          Update key map to add 192   \n",
              "55985                  Add Python 3.7 to the classifiers   \n",
              "\n",
              "                                                 message subject_message_diff  \n",
              "9                     Change the version of the package.                       \n",
              "32                Update for compatibility with python 3                       \n",
              "47                          [c] Deal with MD and RST doc                 [c]   \n",
              "62               Add standard Ansible exception handling                       \n",
              "77     Fix string formatting for NotRegistered exception                       \n",
              "...                                                  ...                  ...  \n",
              "55909  Add configparser import to avoid windows packa...                       \n",
              "55943               Add a few subreddits to @r_wholesome                       \n",
              "55957           Make dsamp a visible component of blimpy                       \n",
              "55979                          Update key map to add 192                       \n",
              "55985                  Add Python 3.7 to the classifiers                       \n",
              "\n",
              "[2074 rows x 3 columns]"
            ],
            "text/html": [
              "\n",
              "  <div id=\"df-91bbcc35-bc4d-4219-9361-f38c146e6ab5\" class=\"colab-df-container\">\n",
              "    <div>\n",
              "<style scoped>\n",
              "    .dataframe tbody tr th:only-of-type {\n",
              "        vertical-align: middle;\n",
              "    }\n",
              "\n",
              "    .dataframe tbody tr th {\n",
              "        vertical-align: top;\n",
              "    }\n",
              "\n",
              "    .dataframe thead th {\n",
              "        text-align: right;\n",
              "    }\n",
              "</style>\n",
              "<table border=\"1\" class=\"dataframe\">\n",
              "  <thead>\n",
              "    <tr style=\"text-align: right;\">\n",
              "      <th></th>\n",
              "      <th>subject</th>\n",
              "      <th>message</th>\n",
              "      <th>subject_message_diff</th>\n",
              "    </tr>\n",
              "  </thead>\n",
              "  <tbody>\n",
              "    <tr>\n",
              "      <th>9</th>\n",
              "      <td>Change the version of the package.</td>\n",
              "      <td>Change the version of the package.</td>\n",
              "      <td></td>\n",
              "    </tr>\n",
              "    <tr>\n",
              "      <th>32</th>\n",
              "      <td>Update for compatibility with python 3</td>\n",
              "      <td>Update for compatibility with python 3</td>\n",
              "      <td></td>\n",
              "    </tr>\n",
              "    <tr>\n",
              "      <th>47</th>\n",
              "      <td>Deal with MD and RST doc</td>\n",
              "      <td>[c] Deal with MD and RST doc</td>\n",
              "      <td>[c]</td>\n",
              "    </tr>\n",
              "    <tr>\n",
              "      <th>62</th>\n",
              "      <td>Add standard Ansible exception handling</td>\n",
              "      <td>Add standard Ansible exception handling</td>\n",
              "      <td></td>\n",
              "    </tr>\n",
              "    <tr>\n",
              "      <th>77</th>\n",
              "      <td>Fix string formatting for NotRegistered exception</td>\n",
              "      <td>Fix string formatting for NotRegistered exception</td>\n",
              "      <td></td>\n",
              "    </tr>\n",
              "    <tr>\n",
              "      <th>...</th>\n",
              "      <td>...</td>\n",
              "      <td>...</td>\n",
              "      <td>...</td>\n",
              "    </tr>\n",
              "    <tr>\n",
              "      <th>55909</th>\n",
              "      <td>Add configparser import to avoid windows packa...</td>\n",
              "      <td>Add configparser import to avoid windows packa...</td>\n",
              "      <td></td>\n",
              "    </tr>\n",
              "    <tr>\n",
              "      <th>55943</th>\n",
              "      <td>Add a few subreddits to @r_wholesome</td>\n",
              "      <td>Add a few subreddits to @r_wholesome</td>\n",
              "      <td></td>\n",
              "    </tr>\n",
              "    <tr>\n",
              "      <th>55957</th>\n",
              "      <td>Make dsamp a visible component of blimpy</td>\n",
              "      <td>Make dsamp a visible component of blimpy</td>\n",
              "      <td></td>\n",
              "    </tr>\n",
              "    <tr>\n",
              "      <th>55979</th>\n",
              "      <td>Update key map to add 192</td>\n",
              "      <td>Update key map to add 192</td>\n",
              "      <td></td>\n",
              "    </tr>\n",
              "    <tr>\n",
              "      <th>55985</th>\n",
              "      <td>Add Python 3.7 to the classifiers</td>\n",
              "      <td>Add Python 3.7 to the classifiers</td>\n",
              "      <td></td>\n",
              "    </tr>\n",
              "  </tbody>\n",
              "</table>\n",
              "<p>2074 rows × 3 columns</p>\n",
              "</div>\n",
              "    <div class=\"colab-df-buttons\">\n",
              "\n",
              "  <div class=\"colab-df-container\">\n",
              "    <button class=\"colab-df-convert\" onclick=\"convertToInteractive('df-91bbcc35-bc4d-4219-9361-f38c146e6ab5')\"\n",
              "            title=\"Convert this dataframe to an interactive table.\"\n",
              "            style=\"display:none;\">\n",
              "\n",
              "  <svg xmlns=\"http://www.w3.org/2000/svg\" height=\"24px\" viewBox=\"0 -960 960 960\">\n",
              "    <path d=\"M120-120v-720h720v720H120Zm60-500h600v-160H180v160Zm220 220h160v-160H400v160Zm0 220h160v-160H400v160ZM180-400h160v-160H180v160Zm440 0h160v-160H620v160ZM180-180h160v-160H180v160Zm440 0h160v-160H620v160Z\"/>\n",
              "  </svg>\n",
              "    </button>\n",
              "\n",
              "  <style>\n",
              "    .colab-df-container {\n",
              "      display:flex;\n",
              "      gap: 12px;\n",
              "    }\n",
              "\n",
              "    .colab-df-convert {\n",
              "      background-color: #E8F0FE;\n",
              "      border: none;\n",
              "      border-radius: 50%;\n",
              "      cursor: pointer;\n",
              "      display: none;\n",
              "      fill: #1967D2;\n",
              "      height: 32px;\n",
              "      padding: 0 0 0 0;\n",
              "      width: 32px;\n",
              "    }\n",
              "\n",
              "    .colab-df-convert:hover {\n",
              "      background-color: #E2EBFA;\n",
              "      box-shadow: 0px 1px 2px rgba(60, 64, 67, 0.3), 0px 1px 3px 1px rgba(60, 64, 67, 0.15);\n",
              "      fill: #174EA6;\n",
              "    }\n",
              "\n",
              "    .colab-df-buttons div {\n",
              "      margin-bottom: 4px;\n",
              "    }\n",
              "\n",
              "    [theme=dark] .colab-df-convert {\n",
              "      background-color: #3B4455;\n",
              "      fill: #D2E3FC;\n",
              "    }\n",
              "\n",
              "    [theme=dark] .colab-df-convert:hover {\n",
              "      background-color: #434B5C;\n",
              "      box-shadow: 0px 1px 3px 1px rgba(0, 0, 0, 0.15);\n",
              "      filter: drop-shadow(0px 1px 2px rgba(0, 0, 0, 0.3));\n",
              "      fill: #FFFFFF;\n",
              "    }\n",
              "  </style>\n",
              "\n",
              "    <script>\n",
              "      const buttonEl =\n",
              "        document.querySelector('#df-91bbcc35-bc4d-4219-9361-f38c146e6ab5 button.colab-df-convert');\n",
              "      buttonEl.style.display =\n",
              "        google.colab.kernel.accessAllowed ? 'block' : 'none';\n",
              "\n",
              "      async function convertToInteractive(key) {\n",
              "        const element = document.querySelector('#df-91bbcc35-bc4d-4219-9361-f38c146e6ab5');\n",
              "        const dataTable =\n",
              "          await google.colab.kernel.invokeFunction('convertToInteractive',\n",
              "                                                    [key], {});\n",
              "        if (!dataTable) return;\n",
              "\n",
              "        const docLinkHtml = 'Like what you see? Visit the ' +\n",
              "          '<a target=\"_blank\" href=https://colab.research.google.com/notebooks/data_table.ipynb>data table notebook</a>'\n",
              "          + ' to learn more about interactive tables.';\n",
              "        element.innerHTML = '';\n",
              "        dataTable['output_type'] = 'display_data';\n",
              "        await google.colab.output.renderOutput(dataTable, element);\n",
              "        const docLink = document.createElement('div');\n",
              "        docLink.innerHTML = docLinkHtml;\n",
              "        element.appendChild(docLink);\n",
              "      }\n",
              "    </script>\n",
              "  </div>\n",
              "\n",
              "\n",
              "<div id=\"df-754091d7-7412-4681-b4f5-c1fac4a04b5e\">\n",
              "  <button class=\"colab-df-quickchart\" onclick=\"quickchart('df-754091d7-7412-4681-b4f5-c1fac4a04b5e')\"\n",
              "            title=\"Suggest charts\"\n",
              "            style=\"display:none;\">\n",
              "\n",
              "<svg xmlns=\"http://www.w3.org/2000/svg\" height=\"24px\"viewBox=\"0 0 24 24\"\n",
              "     width=\"24px\">\n",
              "    <g>\n",
              "        <path d=\"M19 3H5c-1.1 0-2 .9-2 2v14c0 1.1.9 2 2 2h14c1.1 0 2-.9 2-2V5c0-1.1-.9-2-2-2zM9 17H7v-7h2v7zm4 0h-2V7h2v10zm4 0h-2v-4h2v4z\"/>\n",
              "    </g>\n",
              "</svg>\n",
              "  </button>\n",
              "\n",
              "<style>\n",
              "  .colab-df-quickchart {\n",
              "      --bg-color: #E8F0FE;\n",
              "      --fill-color: #1967D2;\n",
              "      --hover-bg-color: #E2EBFA;\n",
              "      --hover-fill-color: #174EA6;\n",
              "      --disabled-fill-color: #AAA;\n",
              "      --disabled-bg-color: #DDD;\n",
              "  }\n",
              "\n",
              "  [theme=dark] .colab-df-quickchart {\n",
              "      --bg-color: #3B4455;\n",
              "      --fill-color: #D2E3FC;\n",
              "      --hover-bg-color: #434B5C;\n",
              "      --hover-fill-color: #FFFFFF;\n",
              "      --disabled-bg-color: #3B4455;\n",
              "      --disabled-fill-color: #666;\n",
              "  }\n",
              "\n",
              "  .colab-df-quickchart {\n",
              "    background-color: var(--bg-color);\n",
              "    border: none;\n",
              "    border-radius: 50%;\n",
              "    cursor: pointer;\n",
              "    display: none;\n",
              "    fill: var(--fill-color);\n",
              "    height: 32px;\n",
              "    padding: 0;\n",
              "    width: 32px;\n",
              "  }\n",
              "\n",
              "  .colab-df-quickchart:hover {\n",
              "    background-color: var(--hover-bg-color);\n",
              "    box-shadow: 0 1px 2px rgba(60, 64, 67, 0.3), 0 1px 3px 1px rgba(60, 64, 67, 0.15);\n",
              "    fill: var(--button-hover-fill-color);\n",
              "  }\n",
              "\n",
              "  .colab-df-quickchart-complete:disabled,\n",
              "  .colab-df-quickchart-complete:disabled:hover {\n",
              "    background-color: var(--disabled-bg-color);\n",
              "    fill: var(--disabled-fill-color);\n",
              "    box-shadow: none;\n",
              "  }\n",
              "\n",
              "  .colab-df-spinner {\n",
              "    border: 2px solid var(--fill-color);\n",
              "    border-color: transparent;\n",
              "    border-bottom-color: var(--fill-color);\n",
              "    animation:\n",
              "      spin 1s steps(1) infinite;\n",
              "  }\n",
              "\n",
              "  @keyframes spin {\n",
              "    0% {\n",
              "      border-color: transparent;\n",
              "      border-bottom-color: var(--fill-color);\n",
              "      border-left-color: var(--fill-color);\n",
              "    }\n",
              "    20% {\n",
              "      border-color: transparent;\n",
              "      border-left-color: var(--fill-color);\n",
              "      border-top-color: var(--fill-color);\n",
              "    }\n",
              "    30% {\n",
              "      border-color: transparent;\n",
              "      border-left-color: var(--fill-color);\n",
              "      border-top-color: var(--fill-color);\n",
              "      border-right-color: var(--fill-color);\n",
              "    }\n",
              "    40% {\n",
              "      border-color: transparent;\n",
              "      border-right-color: var(--fill-color);\n",
              "      border-top-color: var(--fill-color);\n",
              "    }\n",
              "    60% {\n",
              "      border-color: transparent;\n",
              "      border-right-color: var(--fill-color);\n",
              "    }\n",
              "    80% {\n",
              "      border-color: transparent;\n",
              "      border-right-color: var(--fill-color);\n",
              "      border-bottom-color: var(--fill-color);\n",
              "    }\n",
              "    90% {\n",
              "      border-color: transparent;\n",
              "      border-bottom-color: var(--fill-color);\n",
              "    }\n",
              "  }\n",
              "</style>\n",
              "\n",
              "  <script>\n",
              "    async function quickchart(key) {\n",
              "      const quickchartButtonEl =\n",
              "        document.querySelector('#' + key + ' button');\n",
              "      quickchartButtonEl.disabled = true;  // To prevent multiple clicks.\n",
              "      quickchartButtonEl.classList.add('colab-df-spinner');\n",
              "      try {\n",
              "        const charts = await google.colab.kernel.invokeFunction(\n",
              "            'suggestCharts', [key], {});\n",
              "      } catch (error) {\n",
              "        console.error('Error during call to suggestCharts:', error);\n",
              "      }\n",
              "      quickchartButtonEl.classList.remove('colab-df-spinner');\n",
              "      quickchartButtonEl.classList.add('colab-df-quickchart-complete');\n",
              "    }\n",
              "    (() => {\n",
              "      let quickchartButtonEl =\n",
              "        document.querySelector('#df-754091d7-7412-4681-b4f5-c1fac4a04b5e button');\n",
              "      quickchartButtonEl.style.display =\n",
              "        google.colab.kernel.accessAllowed ? 'block' : 'none';\n",
              "    })();\n",
              "  </script>\n",
              "</div>\n",
              "    </div>\n",
              "  </div>\n"
            ]
          },
          "metadata": {},
          "execution_count": 45
        }
      ]
    },
    {
      "cell_type": "markdown",
      "source": [
        "Most of the subject message differences **not** containing `\\n` seem to be empty."
      ],
      "metadata": {
        "id": "VVwovt7upFMB"
      }
    },
    {
      "cell_type": "code",
      "source": [
        "non_empty_subject_message_diffs = len(non_linebreak_subject_message_diff_df[non_linebreak_subject_message_diff_df['subject_message_diff'] != ''])\n",
        "print(f'Of the entries not containing `\\\\n` {len(non_linebreak_subject_message_diff_df) - non_empty_subject_message_diffs} entries or {(1-(non_empty_subject_message_diffs/len(non_linebreak_subject_message_diff_df)))*100} percent are empty.')"
      ],
      "metadata": {
        "colab": {
          "base_uri": "https://localhost:8080/"
        },
        "id": "7EyMs_kVo9Mm",
        "outputId": "b7e8d852-fb20-4698-a5be-13366d69dd9e"
      },
      "execution_count": 46,
      "outputs": [
        {
          "output_type": "stream",
          "name": "stdout",
          "text": [
            "Of the entries not containing `\\n` 1986 entries or 95.75699132111862 percent are empty.\n"
          ]
        }
      ]
    },
    {
      "cell_type": "markdown",
      "source": [
        "I conclude the the difference and thus additional information encoded in the `message` column is minor."
      ],
      "metadata": {
        "id": "JAOzPbWdrmZK"
      }
    },
    {
      "cell_type": "markdown",
      "source": [
        "## N-grams of commit subjects (`message` column)"
      ],
      "metadata": {
        "id": "3vH7y_xqr6sl"
      }
    },
    {
      "cell_type": "markdown",
      "source": [
        "Because of the above result, I will perform this part of the analysis only on the `message` column. While the data in this column does contain some noise in  the form of explicit line break delimiters `\\n`, some entries actually contain added information."
      ],
      "metadata": {
        "id": "gqW_ZcoAsG1q"
      }
    },
    {
      "cell_type": "code",
      "source": [
        "def __remove_line_break_escape_sequence(messages: pd.Series) -> pd.Series:\n",
        "  return messages.str.replace('\\\\n', '', regex=True)\n",
        "\n",
        "def __reduce_to_alphanumeric_and_whitespace(messages: pd.Series) -> pd.Series:\n",
        "  return messages.str.replace(pat='[^a-zA-Z0-9\\\\s]', repl='', regex=True)\n",
        "\n",
        "def clean_messages_in(messages: pd.Series) -> pd.Series:\n",
        "  messages = __reduce_to_alphanumeric_and_whitespace(messages)\n",
        "  messages = __remove_line_break_escape_sequence(messages)\n",
        "  messages = messages.str.lower()\n",
        "\n",
        "  return messages"
      ],
      "metadata": {
        "id": "02uWwrx1v9tY"
      },
      "execution_count": 47,
      "outputs": []
    },
    {
      "cell_type": "code",
      "source": [
        "messages = clean_messages_in(df['message'])"
      ],
      "metadata": {
        "id": "FrrkAtLQ23z5"
      },
      "execution_count": 48,
      "outputs": []
    },
    {
      "cell_type": "code",
      "source": [
        "tokenized_messages = messages.apply(word_tokenize)"
      ],
      "metadata": {
        "id": "B9rZP1KY4MbP"
      },
      "execution_count": 49,
      "outputs": []
    },
    {
      "cell_type": "markdown",
      "source": [
        "Now, I extract all n-grams for n={1,2,3,4,5} to investigate any sort of patterns present in the types of commits in the dataset. For this I will compute a probability distribution based on the counts of each n-gram I find."
      ],
      "metadata": {
        "id": "tbqSXc1ZHVii"
      }
    },
    {
      "cell_type": "code",
      "source": [
        "def extract_ngrams(messages: pd.Series, n: int) -> List[Tuple[Tuple[str], float]]:\n",
        "  \"\"\"\n",
        "  Extracts the n-grams specified by the n parameter from messages and computes their\n",
        "  probabilitiy distribution based on the observed counts.\n",
        "\n",
        "  Args:\n",
        "    messages (pd.Series): A series of the tokenized messages, each row corresponds to one message and is a list of word tokens.\n",
        "    n (int): Specifices the type of n-grams to extract.\n",
        "\n",
        "  Returns:\n",
        "    (List[Tuple[Tuple[str], float]]): A list of tuples where fst is a tuple of strings containing the n-gram and snd the probability\n",
        "      for the occurrence of this n-gram.\n",
        "  \"\"\"\n",
        "  # Extract the n_grams and flatten the resulting list\n",
        "  extracted_ngrams = [ngram for tokenized_message in messages for ngram in list(ngrams(tokenized_message, n))]\n",
        "\n",
        "  # Get the frequency distribution of the n_grams by counting\n",
        "  freq_dist = FreqDist(extracted_ngrams)\n",
        "\n",
        "  # Map frequency distribution to probabilities\n",
        "  total_ngrams = len(extracted_ngrams)\n",
        "  ngrams_with_probabilities = {gram: round(freq / total_ngrams, 6) for gram, freq in freq_dist.items()}\n",
        "\n",
        "  # Sort n-grams by probabilities\n",
        "  sorted_ngrams = sorted(ngrams_with_probabilities.items(), key=lambda x: x[1], reverse=True)\n",
        "\n",
        "  return sorted_ngrams\n",
        "\n",
        "\n",
        "n_grams = {}\n",
        "for n in range(1, 6):\n",
        "  n_grams[n] = extract_ngrams(tokenized_messages, n)"
      ],
      "metadata": {
        "id": "ajZHspxRpli3"
      },
      "execution_count": 50,
      "outputs": []
    },
    {
      "cell_type": "markdown",
      "source": [
        "Let's take a look at the top 20 n-grams for each type of n-gram (ie, unigram, bigram, ...)."
      ],
      "metadata": {
        "id": "X74YsGuaHsc3"
      }
    },
    {
      "cell_type": "code",
      "source": [
        "top_ngrams_cutoff = 20\n",
        "for n in range(1,6):\n",
        "  print(f\"{top_ngrams_cutoff} most probable {n}-grams:\")\n",
        "  for m, gram in enumerate(n_grams[n][:top_ngrams_cutoff]):\n",
        "    print(f\"{m+1}: {gram}\")\n",
        "  print(\"\\n\\n\")"
      ],
      "metadata": {
        "colab": {
          "base_uri": "https://localhost:8080/"
        },
        "id": "q0obYB9OBObv",
        "outputId": "7a991338-9d40-4957-bb21-daba41a30069"
      },
      "execution_count": 52,
      "outputs": [
        {
          "output_type": "stream",
          "name": "stdout",
          "text": [
            "20 most probable 1-grams:\n",
            "1: (('to',), 0.042628)\n",
            "2: (('add',), 0.041358)\n",
            "3: (('for',), 0.03146)\n",
            "4: (('the',), 0.028937)\n",
            "5: (('a',), 0.016898)\n",
            "6: (('in',), 0.015937)\n",
            "7: (('of',), 0.013998)\n",
            "8: (('fix',), 0.013983)\n",
            "9: (('test',), 0.013618)\n",
            "10: (('and',), 0.01225)\n",
            "11: (('use',), 0.008624)\n",
            "12: (('from',), 0.007086)\n",
            "13: (('is',), 0.006732)\n",
            "14: (('with',), 0.006596)\n",
            "15: (('tests',), 0.006528)\n",
            "16: (('on',), 0.006412)\n",
            "17: (('remove',), 0.006081)\n",
            "18: (('update',), 0.005789)\n",
            "19: (('script',), 0.005623)\n",
            "20: (('make',), 0.005207)\n",
            "\n",
            "\n",
            "\n",
            "20 most probable 2-grams:\n",
            "1: (('add', 'a'), 0.005199)\n",
            "2: (('test', 'for'), 0.004151)\n",
            "3: (('tests', 'for'), 0.003221)\n",
            "4: (('script', 'to'), 0.002811)\n",
            "5: (('add', 'test'), 0.002648)\n",
            "6: (('in', 'the'), 0.002517)\n",
            "7: (('to', 'the'), 0.002485)\n",
            "8: (('for', 'the'), 0.002287)\n",
            "9: (('instead', 'of'), 0.002113)\n",
            "10: (('add', 'script'), 0.002015)\n",
            "11: (('of', 'the'), 0.001984)\n",
            "12: (('add', 'tests'), 0.001779)\n",
            "13: (('to', 'be'), 0.001735)\n",
            "14: (('to', 'use'), 0.001334)\n",
            "15: (('script', 'for'), 0.001219)\n",
            "16: (('test', 'to'), 0.001035)\n",
            "17: (('version', 'to'), 0.001016)\n",
            "18: (('a', 'test'), 0.000997)\n",
            "19: (('reverts', 'commit'), 0.000943)\n",
            "20: (('make', 'sure'), 0.000886)\n",
            "\n",
            "\n",
            "\n",
            "20 most probable 3-grams:\n",
            "1: (('add', 'tests', 'for'), 0.001771)\n",
            "2: (('add', 'test', 'for'), 0.00175)\n",
            "3: (('add', 'script', 'to'), 0.001641)\n",
            "4: (('add', 'a', 'test'), 0.000819)\n",
            "5: (('add', 'a', 'script'), 0.000606)\n",
            "6: (('unit', 'tests', 'for'), 0.000601)\n",
            "7: (('a', 'test', 'for'), 0.000571)\n",
            "8: (('unit', 'test', 'for'), 0.000502)\n",
            "9: (('add', 'script', 'for'), 0.000476)\n",
            "10: (('add', 'support', 'for'), 0.000462)\n",
            "11: (('add', 'migration', 'for'), 0.000459)\n",
            "12: (('a', 'script', 'to'), 0.000447)\n",
            "13: (('add', 'unit', 'tests'), 0.000443)\n",
            "14: (('add', 'py', 'solution'), 0.000412)\n",
            "15: (('py', 'solution', 'for'), 0.000412)\n",
            "16: (('test', 'case', 'for'), 0.000388)\n",
            "17: (('add', 'unit', 'test'), 0.000386)\n",
            "18: (('version', 'number', 'to'), 0.00036)\n",
            "19: (('fix', 'typo', 'in'), 0.000346)\n",
            "20: (('test', 'for', 'the'), 0.000343)\n",
            "\n",
            "\n",
            "\n",
            "20 most probable 4-grams:\n",
            "1: (('add', 'a', 'test', 'for'), 0.000601)\n",
            "2: (('add', 'unit', 'tests', 'for'), 0.00048)\n",
            "3: (('add', 'py', 'solution', 'for'), 0.000475)\n",
            "4: (('add', 'a', 'script', 'to'), 0.000475)\n",
            "5: (('add', 'unit', 'test', 'for'), 0.000366)\n",
            "6: (('add', 'script', 'to', 'generate'), 0.00021)\n",
            "7: (('add', 'tests', 'for', 'the'), 0.000186)\n",
            "8: (('add', 'some', 'tests', 'for'), 0.000183)\n",
            "9: (('add', 'test', 'case', 'for'), 0.000183)\n",
            "10: (('add', 'management', 'command', 'to'), 0.000153)\n",
            "11: (('add', 'a', 'script', 'for'), 0.000145)\n",
            "12: (('increment', 'version', 'number', 'to'), 0.000136)\n",
            "13: (('add', 'test', 'cases', 'for'), 0.000134)\n",
            "14: (('a', 'test', 'for', 'the'), 0.000126)\n",
            "15: (('to', 'the', 'list', 'of'), 0.000109)\n",
            "16: (('update', 'dsub', 'version', 'to'), 0.000106)\n",
            "17: (('add', 'missing', 'migration', 'for'), 0.000106)\n",
            "18: (('add', 'python', 'script', 'to'), 0.000106)\n",
            "19: (('update', 'the', 'pypi', 'version'), 0.000104)\n",
            "20: (('the', 'pypi', 'version', 'to'), 0.000104)\n",
            "\n",
            "\n",
            "\n",
            "20 most probable 5-grams:\n",
            "1: (('add', 'a', 'test', 'for', 'the'), 0.000135)\n",
            "2: (('update', 'the', 'pypi', 'version', 'to'), 0.000122)\n",
            "3: (('to', 'permit', 'the', 'latest', 'version'), 8.7e-05)\n",
            "4: (('permit', 'the', 'latest', 'version', 'release'), 8.7e-05)\n",
            "5: (('create', 'documentation', 'of', 'datasource', 'settings'), 8.1e-05)\n",
            "6: (('documentation', 'of', 'datasource', 'settings', 'taskurl'), 8.1e-05)\n",
            "7: (('add', 'a', 'management', 'command', 'to'), 7.4e-05)\n",
            "8: (('most', 'recent', 'call', 'last', 'file'), 7.1e-05)\n",
            "9: (('add', 'solution', 'to', 'lintcode', 'question'), 7.1e-05)\n",
            "10: (('add', 'a', 'test', 'case', 'for'), 6.4e-05)\n",
            "11: (('add', 'some', 'tests', 'for', 'the'), 5.8e-05)\n",
            "12: (('4', 'create', 'script', 'to', 'save'), 5.2e-05)\n",
            "13: (('create', 'script', 'to', 'save', 'documentation'), 5.2e-05)\n",
            "14: (('script', 'to', 'save', 'documentation', 'to'), 5.2e-05)\n",
            "15: (('to', 'save', 'documentation', 'to', 'a'), 5.2e-05)\n",
            "16: (('save', 'documentation', 'to', 'a', 'file'), 5.2e-05)\n",
            "17: (('documentation', 'to', 'a', 'file', 'taskurl'), 5.2e-05)\n",
            "18: (('to', 'a', 'file', 'taskurl', 'httpgithubcomstoeps13ibmcnx2issuesissue4'), 5.2e-05)\n",
            "19: (('add', 'pythonrequires', 'to', 'help', 'pip'), 4.8e-05)\n",
            "20: (('8', 'create', 'documentation', 'of', 'datasource'), 4.8e-05)\n",
            "\n",
            "\n",
            "\n"
          ]
        }
      ]
    },
    {
      "cell_type": "markdown",
      "source": [
        "# Analysis (Commits as a source of natural language instructions for code editing)"
      ],
      "metadata": {
        "id": "pKvVcYBm1foB"
      }
    },
    {
      "cell_type": "markdown",
      "source": [
        "A common thread throughout these n-grams is that most of the commits in the dataset seem to concern tests. This could present a limitation for the use case presented as it means that models trained on the dataset would be biased towards refactoring testing suites. Furthermore, it remains to be seen whether these commits actually refactor code or just commit entire test methods as a whole.\n",
        "\n",
        "Other common n-grams that are present as n increases are hinting at commits for code documentation and migration of code to different versions of used libraries. The latter might be especially helpful, as these tasks can be time-consuming, tediuous and difficult.\n",
        "\n",
        "All in all the dataset is indeed of a good quality. It is however biased towards a certain set of tasks, especially considering that the dataset only contains ~56k entries to begin with, which is not a lot in the context of modern deep learning and the trajectory that it is taking (ie. more = better).\n",
        "\n",
        "In summary, while I think that commits as natural language instructions for code editing is an interesting avenue to explore there are some key issues that I have identified by looking a this dataset:\n",
        "- Biased towards test generation\n",
        "- Might commit entire methods in some cases making it useless for code editing (this would be more in the avenue of code generation)\n",
        "- Commits might not be detailed enough to really describe what the author changed in such a way that it is useful for a model\n",
        "  - e.g., \"Added some tests\" or \"Migrated to new version\" require a lot more context to yield semantically meaningful results"
      ],
      "metadata": {
        "id": "uEr8cvEKJi5s"
      }
    }
  ],
  "metadata": {
    "language_info": {
      "name": "python"
    },
    "colab": {
      "provenance": []
    },
    "kernelspec": {
      "name": "python3",
      "display_name": "Python 3"
    }
  },
  "nbformat": 4,
  "nbformat_minor": 0
}